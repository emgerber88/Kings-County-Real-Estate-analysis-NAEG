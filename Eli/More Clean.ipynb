{
 "cells": [
  {
   "cell_type": "markdown",
   "metadata": {},
   "source": [
    "## Import all packages and data"
   ]
  },
  {
   "cell_type": "code",
   "execution_count": 1,
   "metadata": {},
   "outputs": [],
   "source": [
    "# Standard Packages\n",
    "import pandas as pd\n",
    "import numpy as np\n",
    "import markdown\n",
    "\n",
    "# Viz Packages\n",
    "import seaborn as sns\n",
    "import matplotlib.pyplot as plt\n",
    "\n",
    "# Scipy Stats\n",
    "import scipy.stats as stats \n",
    "\n",
    "# Statsmodel Api\n",
    "import statsmodels.api as sm\n",
    "from statsmodels.formula.api import ols\n",
    "\n",
    "# SKLearn Modules\n",
    "from sklearn.linear_model import LinearRegression\n",
    "from sklearn.feature_selection import RFE\n",
    "from sklearn.preprocessing import StandardScaler, OneHotEncoder\n",
    "from sklearn.model_selection import cross_validate, ShuffleSplit\n",
    "from sklearn.model_selection import train_test_split\n",
    "import sklearn.metrics as metrics\n",
    "from sklearn.metrics import r2_score, mean_squared_error, mean_absolute_error\n",
    "from sklearn.preprocessing import PolynomialFeatures\n",
    "\n",
    "\n",
    "# Suppress future and deprecation warnings\n",
    "import warnings\n",
    "warnings.filterwarnings(\"ignore\", category= FutureWarning)\n",
    "warnings.filterwarnings(\"ignore\", category=DeprecationWarning) "
   ]
  },
  {
   "cell_type": "code",
   "execution_count": 2,
   "metadata": {},
   "outputs": [
    {
     "data": {
      "text/html": [
       "<div>\n",
       "<style scoped>\n",
       "    .dataframe tbody tr th:only-of-type {\n",
       "        vertical-align: middle;\n",
       "    }\n",
       "\n",
       "    .dataframe tbody tr th {\n",
       "        vertical-align: top;\n",
       "    }\n",
       "\n",
       "    .dataframe thead th {\n",
       "        text-align: right;\n",
       "    }\n",
       "</style>\n",
       "<table border=\"1\" class=\"dataframe\">\n",
       "  <thead>\n",
       "    <tr style=\"text-align: right;\">\n",
       "      <th></th>\n",
       "      <th>id</th>\n",
       "      <th>date</th>\n",
       "      <th>price</th>\n",
       "      <th>bedrooms</th>\n",
       "      <th>bathrooms</th>\n",
       "      <th>sqft_living</th>\n",
       "      <th>sqft_lot</th>\n",
       "      <th>floors</th>\n",
       "      <th>waterfront</th>\n",
       "      <th>greenbelt</th>\n",
       "      <th>...</th>\n",
       "      <th>sewer_system</th>\n",
       "      <th>sqft_above</th>\n",
       "      <th>sqft_basement</th>\n",
       "      <th>sqft_garage</th>\n",
       "      <th>sqft_patio</th>\n",
       "      <th>yr_built</th>\n",
       "      <th>yr_renovated</th>\n",
       "      <th>address</th>\n",
       "      <th>lat</th>\n",
       "      <th>long</th>\n",
       "    </tr>\n",
       "  </thead>\n",
       "  <tbody>\n",
       "    <tr>\n",
       "      <th>0</th>\n",
       "      <td>7399300360</td>\n",
       "      <td>5/24/2022</td>\n",
       "      <td>675000.0</td>\n",
       "      <td>4</td>\n",
       "      <td>1.0</td>\n",
       "      <td>1180</td>\n",
       "      <td>7140</td>\n",
       "      <td>1.0</td>\n",
       "      <td>NO</td>\n",
       "      <td>NO</td>\n",
       "      <td>...</td>\n",
       "      <td>PUBLIC</td>\n",
       "      <td>1180</td>\n",
       "      <td>0</td>\n",
       "      <td>0</td>\n",
       "      <td>40</td>\n",
       "      <td>1969</td>\n",
       "      <td>0</td>\n",
       "      <td>2102 Southeast 21st Court, Renton, Washington ...</td>\n",
       "      <td>47.461975</td>\n",
       "      <td>-122.19052</td>\n",
       "    </tr>\n",
       "    <tr>\n",
       "      <th>1</th>\n",
       "      <td>8910500230</td>\n",
       "      <td>12/13/2021</td>\n",
       "      <td>920000.0</td>\n",
       "      <td>5</td>\n",
       "      <td>2.5</td>\n",
       "      <td>2770</td>\n",
       "      <td>6703</td>\n",
       "      <td>1.0</td>\n",
       "      <td>NO</td>\n",
       "      <td>NO</td>\n",
       "      <td>...</td>\n",
       "      <td>PUBLIC</td>\n",
       "      <td>1570</td>\n",
       "      <td>1570</td>\n",
       "      <td>0</td>\n",
       "      <td>240</td>\n",
       "      <td>1950</td>\n",
       "      <td>0</td>\n",
       "      <td>11231 Greenwood Avenue North, Seattle, Washing...</td>\n",
       "      <td>47.711525</td>\n",
       "      <td>-122.35591</td>\n",
       "    </tr>\n",
       "    <tr>\n",
       "      <th>2</th>\n",
       "      <td>1180000275</td>\n",
       "      <td>9/29/2021</td>\n",
       "      <td>311000.0</td>\n",
       "      <td>6</td>\n",
       "      <td>2.0</td>\n",
       "      <td>2880</td>\n",
       "      <td>6156</td>\n",
       "      <td>1.0</td>\n",
       "      <td>NO</td>\n",
       "      <td>NO</td>\n",
       "      <td>...</td>\n",
       "      <td>PUBLIC</td>\n",
       "      <td>1580</td>\n",
       "      <td>1580</td>\n",
       "      <td>0</td>\n",
       "      <td>0</td>\n",
       "      <td>1956</td>\n",
       "      <td>0</td>\n",
       "      <td>8504 South 113th Street, Seattle, Washington 9...</td>\n",
       "      <td>47.502045</td>\n",
       "      <td>-122.22520</td>\n",
       "    </tr>\n",
       "    <tr>\n",
       "      <th>3</th>\n",
       "      <td>1604601802</td>\n",
       "      <td>12/14/2021</td>\n",
       "      <td>775000.0</td>\n",
       "      <td>3</td>\n",
       "      <td>3.0</td>\n",
       "      <td>2160</td>\n",
       "      <td>1400</td>\n",
       "      <td>2.0</td>\n",
       "      <td>NO</td>\n",
       "      <td>NO</td>\n",
       "      <td>...</td>\n",
       "      <td>PUBLIC</td>\n",
       "      <td>1090</td>\n",
       "      <td>1070</td>\n",
       "      <td>200</td>\n",
       "      <td>270</td>\n",
       "      <td>2010</td>\n",
       "      <td>0</td>\n",
       "      <td>4079 Letitia Avenue South, Seattle, Washington...</td>\n",
       "      <td>47.566110</td>\n",
       "      <td>-122.29020</td>\n",
       "    </tr>\n",
       "    <tr>\n",
       "      <th>4</th>\n",
       "      <td>8562780790</td>\n",
       "      <td>8/24/2021</td>\n",
       "      <td>592500.0</td>\n",
       "      <td>2</td>\n",
       "      <td>2.0</td>\n",
       "      <td>1120</td>\n",
       "      <td>758</td>\n",
       "      <td>2.0</td>\n",
       "      <td>NO</td>\n",
       "      <td>NO</td>\n",
       "      <td>...</td>\n",
       "      <td>PUBLIC</td>\n",
       "      <td>1120</td>\n",
       "      <td>550</td>\n",
       "      <td>550</td>\n",
       "      <td>30</td>\n",
       "      <td>2012</td>\n",
       "      <td>0</td>\n",
       "      <td>2193 Northwest Talus Drive, Issaquah, Washingt...</td>\n",
       "      <td>47.532470</td>\n",
       "      <td>-122.07188</td>\n",
       "    </tr>\n",
       "    <tr>\n",
       "      <th>...</th>\n",
       "      <td>...</td>\n",
       "      <td>...</td>\n",
       "      <td>...</td>\n",
       "      <td>...</td>\n",
       "      <td>...</td>\n",
       "      <td>...</td>\n",
       "      <td>...</td>\n",
       "      <td>...</td>\n",
       "      <td>...</td>\n",
       "      <td>...</td>\n",
       "      <td>...</td>\n",
       "      <td>...</td>\n",
       "      <td>...</td>\n",
       "      <td>...</td>\n",
       "      <td>...</td>\n",
       "      <td>...</td>\n",
       "      <td>...</td>\n",
       "      <td>...</td>\n",
       "      <td>...</td>\n",
       "      <td>...</td>\n",
       "      <td>...</td>\n",
       "    </tr>\n",
       "    <tr>\n",
       "      <th>30150</th>\n",
       "      <td>7834800180</td>\n",
       "      <td>11/30/2021</td>\n",
       "      <td>1555000.0</td>\n",
       "      <td>5</td>\n",
       "      <td>2.0</td>\n",
       "      <td>1910</td>\n",
       "      <td>4000</td>\n",
       "      <td>1.5</td>\n",
       "      <td>NO</td>\n",
       "      <td>NO</td>\n",
       "      <td>...</td>\n",
       "      <td>PUBLIC</td>\n",
       "      <td>1600</td>\n",
       "      <td>1130</td>\n",
       "      <td>0</td>\n",
       "      <td>210</td>\n",
       "      <td>1921</td>\n",
       "      <td>0</td>\n",
       "      <td>4673 Eastern Avenue North, Seattle, Washington...</td>\n",
       "      <td>47.664740</td>\n",
       "      <td>-122.32940</td>\n",
       "    </tr>\n",
       "    <tr>\n",
       "      <th>30151</th>\n",
       "      <td>194000695</td>\n",
       "      <td>6/16/2021</td>\n",
       "      <td>1313000.0</td>\n",
       "      <td>3</td>\n",
       "      <td>2.0</td>\n",
       "      <td>2020</td>\n",
       "      <td>5800</td>\n",
       "      <td>2.0</td>\n",
       "      <td>NO</td>\n",
       "      <td>NO</td>\n",
       "      <td>...</td>\n",
       "      <td>PUBLIC</td>\n",
       "      <td>2020</td>\n",
       "      <td>0</td>\n",
       "      <td>0</td>\n",
       "      <td>520</td>\n",
       "      <td>2011</td>\n",
       "      <td>0</td>\n",
       "      <td>4131 44th Avenue Southwest, Seattle, Washingto...</td>\n",
       "      <td>47.565610</td>\n",
       "      <td>-122.38851</td>\n",
       "    </tr>\n",
       "    <tr>\n",
       "      <th>30152</th>\n",
       "      <td>7960100080</td>\n",
       "      <td>5/27/2022</td>\n",
       "      <td>800000.0</td>\n",
       "      <td>3</td>\n",
       "      <td>2.0</td>\n",
       "      <td>1620</td>\n",
       "      <td>3600</td>\n",
       "      <td>1.0</td>\n",
       "      <td>NO</td>\n",
       "      <td>NO</td>\n",
       "      <td>...</td>\n",
       "      <td>PUBLIC</td>\n",
       "      <td>940</td>\n",
       "      <td>920</td>\n",
       "      <td>240</td>\n",
       "      <td>110</td>\n",
       "      <td>1995</td>\n",
       "      <td>0</td>\n",
       "      <td>910 Martin Luther King Jr Way, Seattle, Washin...</td>\n",
       "      <td>47.610395</td>\n",
       "      <td>-122.29585</td>\n",
       "    </tr>\n",
       "    <tr>\n",
       "      <th>30153</th>\n",
       "      <td>2781280080</td>\n",
       "      <td>2/24/2022</td>\n",
       "      <td>775000.0</td>\n",
       "      <td>3</td>\n",
       "      <td>2.5</td>\n",
       "      <td>2570</td>\n",
       "      <td>2889</td>\n",
       "      <td>2.0</td>\n",
       "      <td>NO</td>\n",
       "      <td>NO</td>\n",
       "      <td>...</td>\n",
       "      <td>PUBLIC</td>\n",
       "      <td>1830</td>\n",
       "      <td>740</td>\n",
       "      <td>480</td>\n",
       "      <td>100</td>\n",
       "      <td>2006</td>\n",
       "      <td>0</td>\n",
       "      <td>17127 114th Avenue Southeast, Renton, Washingt...</td>\n",
       "      <td>47.449490</td>\n",
       "      <td>-122.18908</td>\n",
       "    </tr>\n",
       "    <tr>\n",
       "      <th>30154</th>\n",
       "      <td>9557800100</td>\n",
       "      <td>4/29/2022</td>\n",
       "      <td>500000.0</td>\n",
       "      <td>3</td>\n",
       "      <td>1.5</td>\n",
       "      <td>1200</td>\n",
       "      <td>11058</td>\n",
       "      <td>1.0</td>\n",
       "      <td>NO</td>\n",
       "      <td>NO</td>\n",
       "      <td>...</td>\n",
       "      <td>PUBLIC</td>\n",
       "      <td>1200</td>\n",
       "      <td>0</td>\n",
       "      <td>420</td>\n",
       "      <td>0</td>\n",
       "      <td>1965</td>\n",
       "      <td>0</td>\n",
       "      <td>18615 7th Avenue South, Burien, Washington 981...</td>\n",
       "      <td>47.435840</td>\n",
       "      <td>-122.32634</td>\n",
       "    </tr>\n",
       "  </tbody>\n",
       "</table>\n",
       "<p>30155 rows × 25 columns</p>\n",
       "</div>"
      ],
      "text/plain": [
       "               id        date      price  bedrooms  bathrooms  sqft_living  \\\n",
       "0      7399300360   5/24/2022   675000.0         4        1.0         1180   \n",
       "1      8910500230  12/13/2021   920000.0         5        2.5         2770   \n",
       "2      1180000275   9/29/2021   311000.0         6        2.0         2880   \n",
       "3      1604601802  12/14/2021   775000.0         3        3.0         2160   \n",
       "4      8562780790   8/24/2021   592500.0         2        2.0         1120   \n",
       "...           ...         ...        ...       ...        ...          ...   \n",
       "30150  7834800180  11/30/2021  1555000.0         5        2.0         1910   \n",
       "30151   194000695   6/16/2021  1313000.0         3        2.0         2020   \n",
       "30152  7960100080   5/27/2022   800000.0         3        2.0         1620   \n",
       "30153  2781280080   2/24/2022   775000.0         3        2.5         2570   \n",
       "30154  9557800100   4/29/2022   500000.0         3        1.5         1200   \n",
       "\n",
       "       sqft_lot  floors waterfront greenbelt  ... sewer_system sqft_above  \\\n",
       "0          7140     1.0         NO        NO  ...       PUBLIC       1180   \n",
       "1          6703     1.0         NO        NO  ...       PUBLIC       1570   \n",
       "2          6156     1.0         NO        NO  ...       PUBLIC       1580   \n",
       "3          1400     2.0         NO        NO  ...       PUBLIC       1090   \n",
       "4           758     2.0         NO        NO  ...       PUBLIC       1120   \n",
       "...         ...     ...        ...       ...  ...          ...        ...   \n",
       "30150      4000     1.5         NO        NO  ...       PUBLIC       1600   \n",
       "30151      5800     2.0         NO        NO  ...       PUBLIC       2020   \n",
       "30152      3600     1.0         NO        NO  ...       PUBLIC        940   \n",
       "30153      2889     2.0         NO        NO  ...       PUBLIC       1830   \n",
       "30154     11058     1.0         NO        NO  ...       PUBLIC       1200   \n",
       "\n",
       "      sqft_basement sqft_garage sqft_patio yr_built  yr_renovated  \\\n",
       "0                 0           0         40     1969             0   \n",
       "1              1570           0        240     1950             0   \n",
       "2              1580           0          0     1956             0   \n",
       "3              1070         200        270     2010             0   \n",
       "4               550         550         30     2012             0   \n",
       "...             ...         ...        ...      ...           ...   \n",
       "30150          1130           0        210     1921             0   \n",
       "30151             0           0        520     2011             0   \n",
       "30152           920         240        110     1995             0   \n",
       "30153           740         480        100     2006             0   \n",
       "30154             0         420          0     1965             0   \n",
       "\n",
       "                                                 address        lat       long  \n",
       "0      2102 Southeast 21st Court, Renton, Washington ...  47.461975 -122.19052  \n",
       "1      11231 Greenwood Avenue North, Seattle, Washing...  47.711525 -122.35591  \n",
       "2      8504 South 113th Street, Seattle, Washington 9...  47.502045 -122.22520  \n",
       "3      4079 Letitia Avenue South, Seattle, Washington...  47.566110 -122.29020  \n",
       "4      2193 Northwest Talus Drive, Issaquah, Washingt...  47.532470 -122.07188  \n",
       "...                                                  ...        ...        ...  \n",
       "30150  4673 Eastern Avenue North, Seattle, Washington...  47.664740 -122.32940  \n",
       "30151  4131 44th Avenue Southwest, Seattle, Washingto...  47.565610 -122.38851  \n",
       "30152  910 Martin Luther King Jr Way, Seattle, Washin...  47.610395 -122.29585  \n",
       "30153  17127 114th Avenue Southeast, Renton, Washingt...  47.449490 -122.18908  \n",
       "30154  18615 7th Avenue South, Burien, Washington 981...  47.435840 -122.32634  \n",
       "\n",
       "[30155 rows x 25 columns]"
      ]
     },
     "execution_count": 2,
     "metadata": {},
     "output_type": "execute_result"
    }
   ],
   "source": [
    "hd = pd.read_csv(\"/Users/eli/Desktop/Kings-County-Real-Estate-analysis-NAEG/Nadya/data/kc_house_data.csv\")\n",
    "f = open('/Users/eli/Desktop/Kings-County-Real-Estate-analysis-NAEG/Nadya/data/column_names.md', 'r')\n",
    "desc=markdown.markdown( f.read() )\n",
    "hd"
   ]
  },
  {
   "cell_type": "code",
   "execution_count": 3,
   "metadata": {},
   "outputs": [
    {
     "data": {
      "text/plain": [
       "Index(['id', 'date', 'price', 'bedrooms', 'bathrooms', 'sqft_living',\n",
       "       'sqft_lot', 'floors', 'waterfront', 'greenbelt', 'nuisance', 'view',\n",
       "       'condition', 'grade', 'heat_source', 'sewer_system', 'sqft_above',\n",
       "       'sqft_basement', 'sqft_garage', 'sqft_patio', 'yr_built',\n",
       "       'yr_renovated', 'address', 'lat', 'long'],\n",
       "      dtype='object')"
      ]
     },
     "execution_count": 3,
     "metadata": {},
     "output_type": "execute_result"
    }
   ],
   "source": [
    "hd.columns"
   ]
  },
  {
   "cell_type": "code",
   "execution_count": 4,
   "metadata": {},
   "outputs": [
    {
     "data": {
      "text/plain": [
       "NO     29636\n",
       "YES      519\n",
       "Name: waterfront, dtype: int64"
      ]
     },
     "execution_count": 4,
     "metadata": {},
     "output_type": "execute_result"
    }
   ],
   "source": [
    "hd['waterfront'].value_counts()"
   ]
  },
  {
   "cell_type": "code",
   "execution_count": 5,
   "metadata": {
    "scrolled": true
   },
   "outputs": [
    {
     "data": {
      "text/html": [
       "<div>\n",
       "<style scoped>\n",
       "    .dataframe tbody tr th:only-of-type {\n",
       "        vertical-align: middle;\n",
       "    }\n",
       "\n",
       "    .dataframe tbody tr th {\n",
       "        vertical-align: top;\n",
       "    }\n",
       "\n",
       "    .dataframe thead th {\n",
       "        text-align: right;\n",
       "    }\n",
       "</style>\n",
       "<table border=\"1\" class=\"dataframe\">\n",
       "  <thead>\n",
       "    <tr style=\"text-align: right;\">\n",
       "      <th></th>\n",
       "      <th>id</th>\n",
       "      <th>price</th>\n",
       "      <th>bedrooms</th>\n",
       "      <th>bathrooms</th>\n",
       "      <th>sqft_living</th>\n",
       "      <th>sqft_lot</th>\n",
       "      <th>floors</th>\n",
       "      <th>sqft_above</th>\n",
       "      <th>sqft_basement</th>\n",
       "      <th>sqft_garage</th>\n",
       "      <th>sqft_patio</th>\n",
       "      <th>yr_built</th>\n",
       "      <th>yr_renovated</th>\n",
       "      <th>lat</th>\n",
       "      <th>long</th>\n",
       "    </tr>\n",
       "  </thead>\n",
       "  <tbody>\n",
       "    <tr>\n",
       "      <th>count</th>\n",
       "      <td>3.015500e+04</td>\n",
       "      <td>3.015500e+04</td>\n",
       "      <td>30155.000000</td>\n",
       "      <td>30155.000000</td>\n",
       "      <td>30155.000000</td>\n",
       "      <td>3.015500e+04</td>\n",
       "      <td>30155.000000</td>\n",
       "      <td>30155.000000</td>\n",
       "      <td>30155.000000</td>\n",
       "      <td>30155.000000</td>\n",
       "      <td>30155.000000</td>\n",
       "      <td>30155.000000</td>\n",
       "      <td>30155.000000</td>\n",
       "      <td>30155.000000</td>\n",
       "      <td>30155.000000</td>\n",
       "    </tr>\n",
       "    <tr>\n",
       "      <th>mean</th>\n",
       "      <td>4.538104e+09</td>\n",
       "      <td>1.108536e+06</td>\n",
       "      <td>3.413530</td>\n",
       "      <td>2.334737</td>\n",
       "      <td>2112.424739</td>\n",
       "      <td>1.672360e+04</td>\n",
       "      <td>1.543492</td>\n",
       "      <td>1809.826098</td>\n",
       "      <td>476.039396</td>\n",
       "      <td>330.211142</td>\n",
       "      <td>217.412038</td>\n",
       "      <td>1975.163953</td>\n",
       "      <td>90.922301</td>\n",
       "      <td>47.328076</td>\n",
       "      <td>-121.317397</td>\n",
       "    </tr>\n",
       "    <tr>\n",
       "      <th>std</th>\n",
       "      <td>2.882587e+09</td>\n",
       "      <td>8.963857e+05</td>\n",
       "      <td>0.981612</td>\n",
       "      <td>0.889556</td>\n",
       "      <td>974.044318</td>\n",
       "      <td>6.038260e+04</td>\n",
       "      <td>0.567717</td>\n",
       "      <td>878.306131</td>\n",
       "      <td>579.631302</td>\n",
       "      <td>285.770536</td>\n",
       "      <td>245.302792</td>\n",
       "      <td>32.067362</td>\n",
       "      <td>416.473038</td>\n",
       "      <td>1.434005</td>\n",
       "      <td>5.725475</td>\n",
       "    </tr>\n",
       "    <tr>\n",
       "      <th>min</th>\n",
       "      <td>1.000055e+06</td>\n",
       "      <td>2.736000e+04</td>\n",
       "      <td>0.000000</td>\n",
       "      <td>0.000000</td>\n",
       "      <td>3.000000</td>\n",
       "      <td>4.020000e+02</td>\n",
       "      <td>1.000000</td>\n",
       "      <td>2.000000</td>\n",
       "      <td>0.000000</td>\n",
       "      <td>0.000000</td>\n",
       "      <td>0.000000</td>\n",
       "      <td>1900.000000</td>\n",
       "      <td>0.000000</td>\n",
       "      <td>21.274240</td>\n",
       "      <td>-157.791480</td>\n",
       "    </tr>\n",
       "    <tr>\n",
       "      <th>25%</th>\n",
       "      <td>2.064175e+09</td>\n",
       "      <td>6.480000e+05</td>\n",
       "      <td>3.000000</td>\n",
       "      <td>2.000000</td>\n",
       "      <td>1420.000000</td>\n",
       "      <td>4.850000e+03</td>\n",
       "      <td>1.000000</td>\n",
       "      <td>1180.000000</td>\n",
       "      <td>0.000000</td>\n",
       "      <td>0.000000</td>\n",
       "      <td>40.000000</td>\n",
       "      <td>1953.000000</td>\n",
       "      <td>0.000000</td>\n",
       "      <td>47.405320</td>\n",
       "      <td>-122.326045</td>\n",
       "    </tr>\n",
       "    <tr>\n",
       "      <th>50%</th>\n",
       "      <td>3.874011e+09</td>\n",
       "      <td>8.600000e+05</td>\n",
       "      <td>3.000000</td>\n",
       "      <td>2.500000</td>\n",
       "      <td>1920.000000</td>\n",
       "      <td>7.480000e+03</td>\n",
       "      <td>1.500000</td>\n",
       "      <td>1560.000000</td>\n",
       "      <td>0.000000</td>\n",
       "      <td>400.000000</td>\n",
       "      <td>150.000000</td>\n",
       "      <td>1977.000000</td>\n",
       "      <td>0.000000</td>\n",
       "      <td>47.551380</td>\n",
       "      <td>-122.225585</td>\n",
       "    </tr>\n",
       "    <tr>\n",
       "      <th>75%</th>\n",
       "      <td>7.287100e+09</td>\n",
       "      <td>1.300000e+06</td>\n",
       "      <td>4.000000</td>\n",
       "      <td>3.000000</td>\n",
       "      <td>2619.500000</td>\n",
       "      <td>1.057900e+04</td>\n",
       "      <td>2.000000</td>\n",
       "      <td>2270.000000</td>\n",
       "      <td>940.000000</td>\n",
       "      <td>510.000000</td>\n",
       "      <td>320.000000</td>\n",
       "      <td>2003.000000</td>\n",
       "      <td>0.000000</td>\n",
       "      <td>47.669913</td>\n",
       "      <td>-122.116205</td>\n",
       "    </tr>\n",
       "    <tr>\n",
       "      <th>max</th>\n",
       "      <td>9.904000e+09</td>\n",
       "      <td>3.075000e+07</td>\n",
       "      <td>13.000000</td>\n",
       "      <td>10.500000</td>\n",
       "      <td>15360.000000</td>\n",
       "      <td>3.253932e+06</td>\n",
       "      <td>4.000000</td>\n",
       "      <td>12660.000000</td>\n",
       "      <td>8020.000000</td>\n",
       "      <td>3580.000000</td>\n",
       "      <td>4370.000000</td>\n",
       "      <td>2022.000000</td>\n",
       "      <td>2022.000000</td>\n",
       "      <td>64.824070</td>\n",
       "      <td>-70.074340</td>\n",
       "    </tr>\n",
       "  </tbody>\n",
       "</table>\n",
       "</div>"
      ],
      "text/plain": [
       "                 id         price      bedrooms     bathrooms   sqft_living  \\\n",
       "count  3.015500e+04  3.015500e+04  30155.000000  30155.000000  30155.000000   \n",
       "mean   4.538104e+09  1.108536e+06      3.413530      2.334737   2112.424739   \n",
       "std    2.882587e+09  8.963857e+05      0.981612      0.889556    974.044318   \n",
       "min    1.000055e+06  2.736000e+04      0.000000      0.000000      3.000000   \n",
       "25%    2.064175e+09  6.480000e+05      3.000000      2.000000   1420.000000   \n",
       "50%    3.874011e+09  8.600000e+05      3.000000      2.500000   1920.000000   \n",
       "75%    7.287100e+09  1.300000e+06      4.000000      3.000000   2619.500000   \n",
       "max    9.904000e+09  3.075000e+07     13.000000     10.500000  15360.000000   \n",
       "\n",
       "           sqft_lot        floors    sqft_above  sqft_basement   sqft_garage  \\\n",
       "count  3.015500e+04  30155.000000  30155.000000   30155.000000  30155.000000   \n",
       "mean   1.672360e+04      1.543492   1809.826098     476.039396    330.211142   \n",
       "std    6.038260e+04      0.567717    878.306131     579.631302    285.770536   \n",
       "min    4.020000e+02      1.000000      2.000000       0.000000      0.000000   \n",
       "25%    4.850000e+03      1.000000   1180.000000       0.000000      0.000000   \n",
       "50%    7.480000e+03      1.500000   1560.000000       0.000000    400.000000   \n",
       "75%    1.057900e+04      2.000000   2270.000000     940.000000    510.000000   \n",
       "max    3.253932e+06      4.000000  12660.000000    8020.000000   3580.000000   \n",
       "\n",
       "         sqft_patio      yr_built  yr_renovated           lat          long  \n",
       "count  30155.000000  30155.000000  30155.000000  30155.000000  30155.000000  \n",
       "mean     217.412038   1975.163953     90.922301     47.328076   -121.317397  \n",
       "std      245.302792     32.067362    416.473038      1.434005      5.725475  \n",
       "min        0.000000   1900.000000      0.000000     21.274240   -157.791480  \n",
       "25%       40.000000   1953.000000      0.000000     47.405320   -122.326045  \n",
       "50%      150.000000   1977.000000      0.000000     47.551380   -122.225585  \n",
       "75%      320.000000   2003.000000      0.000000     47.669913   -122.116205  \n",
       "max     4370.000000   2022.000000   2022.000000     64.824070    -70.074340  "
      ]
     },
     "execution_count": 5,
     "metadata": {},
     "output_type": "execute_result"
    }
   ],
   "source": [
    "hd.describe()"
   ]
  },
  {
   "cell_type": "code",
   "execution_count": 6,
   "metadata": {},
   "outputs": [
    {
     "data": {
      "text/html": [
       "<div>\n",
       "<style scoped>\n",
       "    .dataframe tbody tr th:only-of-type {\n",
       "        vertical-align: middle;\n",
       "    }\n",
       "\n",
       "    .dataframe tbody tr th {\n",
       "        vertical-align: top;\n",
       "    }\n",
       "\n",
       "    .dataframe thead th {\n",
       "        text-align: right;\n",
       "    }\n",
       "</style>\n",
       "<table border=\"1\" class=\"dataframe\">\n",
       "  <thead>\n",
       "    <tr style=\"text-align: right;\">\n",
       "      <th></th>\n",
       "      <th>id</th>\n",
       "      <th>date</th>\n",
       "      <th>price</th>\n",
       "      <th>bedrooms</th>\n",
       "      <th>bathrooms</th>\n",
       "      <th>sqft_living</th>\n",
       "      <th>sqft_lot</th>\n",
       "      <th>floors</th>\n",
       "      <th>waterfront</th>\n",
       "      <th>greenbelt</th>\n",
       "      <th>...</th>\n",
       "      <th>sewer_system</th>\n",
       "      <th>sqft_above</th>\n",
       "      <th>sqft_basement</th>\n",
       "      <th>sqft_garage</th>\n",
       "      <th>sqft_patio</th>\n",
       "      <th>yr_built</th>\n",
       "      <th>yr_renovated</th>\n",
       "      <th>address</th>\n",
       "      <th>lat</th>\n",
       "      <th>long</th>\n",
       "    </tr>\n",
       "  </thead>\n",
       "  <tbody>\n",
       "    <tr>\n",
       "      <th>14977</th>\n",
       "      <td>1549500215</td>\n",
       "      <td>12/17/2021</td>\n",
       "      <td>1803000.0</td>\n",
       "      <td>4</td>\n",
       "      <td>4.0</td>\n",
       "      <td>3</td>\n",
       "      <td>326701</td>\n",
       "      <td>2.0</td>\n",
       "      <td>NO</td>\n",
       "      <td>NO</td>\n",
       "      <td>...</td>\n",
       "      <td>PRIVATE</td>\n",
       "      <td>2</td>\n",
       "      <td>1</td>\n",
       "      <td>1</td>\n",
       "      <td>0</td>\n",
       "      <td>2021</td>\n",
       "      <td>0</td>\n",
       "      <td>31072 Northeast 165th Street, Duvall, Washingt...</td>\n",
       "      <td>47.74529</td>\n",
       "      <td>-121.92362</td>\n",
       "    </tr>\n",
       "  </tbody>\n",
       "</table>\n",
       "<p>1 rows × 25 columns</p>\n",
       "</div>"
      ],
      "text/plain": [
       "               id        date      price  bedrooms  bathrooms  sqft_living  \\\n",
       "14977  1549500215  12/17/2021  1803000.0         4        4.0            3   \n",
       "\n",
       "       sqft_lot  floors waterfront greenbelt  ... sewer_system sqft_above  \\\n",
       "14977    326701     2.0         NO        NO  ...      PRIVATE          2   \n",
       "\n",
       "      sqft_basement sqft_garage sqft_patio yr_built  yr_renovated  \\\n",
       "14977             1           1          0     2021             0   \n",
       "\n",
       "                                                 address       lat       long  \n",
       "14977  31072 Northeast 165th Street, Duvall, Washingt...  47.74529 -121.92362  \n",
       "\n",
       "[1 rows x 25 columns]"
      ]
     },
     "execution_count": 6,
     "metadata": {},
     "output_type": "execute_result"
    }
   ],
   "source": [
    "hd[hd['sqft_living'] == 3]"
   ]
  },
  {
   "cell_type": "code",
   "execution_count": 7,
   "metadata": {},
   "outputs": [],
   "source": [
    "hd.drop(index = 14977, axis = 0, inplace = True)"
   ]
  },
  {
   "cell_type": "code",
   "execution_count": 8,
   "metadata": {},
   "outputs": [],
   "source": [
    "# find and drop sales records with no bedrooms or no bathrooms\n",
    "nobed_nobath = hd.loc[(hd['bedrooms'] == 0) | (hd['bathrooms'] == 0)]\n",
    "hd.drop(index = nobed_nobath.index, inplace = True, axis = 0)"
   ]
  },
  {
   "cell_type": "code",
   "execution_count": 9,
   "metadata": {},
   "outputs": [],
   "source": [
    "#add zip column for zipcodes\n",
    "hd[\"zip\"] = hd.address.str[-20:-15]\n",
    "\n",
    "#remove data that is outside of King County\n",
    "zips=[98052,98115,98103,98092,98042,98023,98105,98003,98034,98118,98133,98058,98125,98031,98122,98033,98006,98032,98030,98004,98001,98059,98117,98056,98198,98168,98155,98027,98109,98002,98038,98144,98146,98074,98119,98007,98040,98029,98107,98011,98108,98072,98106,98178,98116,98112,98008,98053,98028,98126,98188,98102,98055,98075,98177,98022,98166,98199,98005,98121,98136,98045,98057,98019,98104,98077,98101,98065,98148,98070,98014,98354,98024,98051,98010,98047,98251,98134,98039,98195,98158,98068,98256,98288,98050,98132,98171,98184,98054,98009,98013,98015,98025,98035,98041,98062,98064,98063,98071,98073,98083,98089,98093,98111,98113,98114,98124,98127,98131,98129,98139,98138,98141,98145,98151,98154,98160,98164,98161,98165,98170,98174,98175,98181,98185,98190,98194,98191,98224,98471,98481]\n",
    "zips_strings = [str(i) for i in zips]\n",
    "zips = zips_strings\n",
    "non_wa_zips = hd.loc[~hd[\"zip\"].isin(zips)]\n",
    "hd.drop(index = non_wa_zips.index, inplace = True, axis = 0)\n",
    "\n",
    "#convert zip category to integers\n",
    "hd[\"zip\"] = hd[\"zip\"].astype(int)\n",
    "\n",
    "#remove duplicate rows\n",
    "hd = hd.drop_duplicates(subset=[\"id\"])"
   ]
  },
  {
   "cell_type": "code",
   "execution_count": 10,
   "metadata": {},
   "outputs": [],
   "source": [
    "#remove id column\n",
    "hd = hd.drop(columns=[\"id\"])\n",
    "\n",
    "#add columns for year sold and years old\n",
    "hd[\"years_old\"] = 2023-hd[\"yr_built\"]"
   ]
  },
  {
   "cell_type": "code",
   "execution_count": 11,
   "metadata": {},
   "outputs": [
    {
     "data": {
      "image/png": "[encoded data removed]",
      "text/plain": [
       "<Figure size 1080x1080 with 2 Axes>"
      ]
     },
     "metadata": {
      "needs_background": "light"
     },
     "output_type": "display_data"
    }
   ],
   "source": [
    "#plot the heatmap to determine correlations\n",
    "fig, ax = plt.subplots(figsize = (15, 15))\n",
    "sns.heatmap(hd.corr(), annot=True);"
   ]
  },
  {
   "cell_type": "code",
   "execution_count": 12,
   "metadata": {},
   "outputs": [
    {
     "data": {
      "text/plain": [
       "price            1.000000\n",
       "sqft_living      0.620117\n",
       "sqft_above       0.549083\n",
       "bathrooms        0.491485\n",
       "sqft_patio       0.318593\n",
       "lat              0.298873\n",
       "bedrooms         0.295277\n",
       "sqft_garage      0.269111\n",
       "sqft_basement    0.247288\n",
       "floors           0.201767\n",
       "yr_built         0.107067\n",
       "years_old        0.107067\n",
       "zip              0.106358\n",
       "yr_renovated     0.085973\n",
       "sqft_lot         0.084831\n",
       "long             0.081021\n",
       "Name: price, dtype: float64"
      ]
     },
     "execution_count": 12,
     "metadata": {},
     "output_type": "execute_result"
    }
   ],
   "source": [
    "#list correlations\n",
    "price_corrs = hd.corr()['price'].map(abs).sort_values(ascending=False)\n",
    "price_corrs"
   ]
  },
  {
   "cell_type": "markdown",
   "metadata": {},
   "source": [
    "## Simple Linear Regression - Baseline Model with Train-Test Split"
   ]
  },
  {
   "cell_type": "code",
   "execution_count": 13,
   "metadata": {},
   "outputs": [
    {
     "name": "stdout",
     "output_type": "stream",
     "text": [
      "X_train is a DataFrame with 21873 rows and 25 columns\n",
      "y_train is a Series with 21873 values\n"
     ]
    }
   ],
   "source": [
    "# define variables for simple linear regression\n",
    "y = hd['price']\n",
    "X = hd.drop('price', axis = 1)\n",
    "X_train, X_test, y_train, y_test = train_test_split(X, y, random_state=42)\n",
    "\n",
    "# double check train-test split \n",
    "print(f\"X_train is a DataFrame with {X_train.shape[0]} rows and {X_train.shape[1]} columns\")\n",
    "print(f\"y_train is a Series with {y_train.shape[0]} values\")\n",
    "\n",
    "# We always should have the same number of rows in X as values in y\n",
    "assert X_train.shape[0] == y_train.shape[0]"
   ]
  },
  {
   "cell_type": "code",
   "execution_count": 14,
   "metadata": {},
   "outputs": [
    {
     "ename": "AttributeError",
     "evalue": "'LinearRegression' object has no attribute 'rsquared'",
     "output_type": "error",
     "traceback": [
      "\u001b[0;31m---------------------------------------------------------------------------\u001b[0m",
      "\u001b[0;31mAttributeError\u001b[0m                            Traceback (most recent call last)",
      "\u001b[0;32m<ipython-input-14-edd58fb117fd>\u001b[0m in \u001b[0;36m<module>\u001b[0;34m\u001b[0m\n\u001b[1;32m     17\u001b[0m \u001b[0;34m\u001b[0m\u001b[0m\n\u001b[1;32m     18\u001b[0m \u001b[0;31m# Get our R2 score\u001b[0m\u001b[0;34m\u001b[0m\u001b[0;34m\u001b[0m\u001b[0;34m\u001b[0m\u001b[0m\n\u001b[0;32m---> 19\u001b[0;31m \u001b[0mprint\u001b[0m\u001b[0;34m(\u001b[0m\u001b[0;34mf'Baseline Training R2: {baseline_model.rsquared}.'\u001b[0m\u001b[0;34m)\u001b[0m\u001b[0;34m\u001b[0m\u001b[0;34m\u001b[0m\u001b[0m\n\u001b[0m",
      "\u001b[0;31mAttributeError\u001b[0m: 'LinearRegression' object has no attribute 'rsquared'"
     ]
    }
   ],
   "source": [
    "# select our best correlated predictor, as our X Train\n",
    "baseline_X_train = X_train[['sqft_living']]\n",
    "\n",
    "# Do the same for X Test\n",
    "baseline_X_test = X_test[['sqft_living']]\n",
    "\n",
    "# instantiate the baseline model\n",
    "baseline_model = LinearRegression()\n",
    "\n",
    "# Fit our train model\n",
    "baseline_train_model = sm.OLS(y_train, sm.add_constant(baseline_X_train)).fit()\n",
    "baseline_train_model.summary()\n",
    "\n",
    "# Fit our test model\n",
    "baseline_test_model = sm.OLS(y_test, sm.add_constant(baseline_X_test)).fit()\n",
    "baseline_test_model.summary()\n",
    "\n",
    "# Get our R2 score\n",
    "print(f'Baseline Training R2: {baseline_model.rsquared}.')"
   ]
  },
  {
   "cell_type": "code",
   "execution_count": null,
   "metadata": {},
   "outputs": [],
   "source": [
    "plt.scatter(x=hd[\"sqft_living\"], y=hd[\"price\"]);"
   ]
  },
  {
   "cell_type": "markdown",
   "metadata": {},
   "source": [
    "## Polynomial Model"
   ]
  },
  {
   "cell_type": "code",
   "execution_count": null,
   "metadata": {},
   "outputs": [],
   "source": [
    "# fit and transform the X_train sqft_living column to a poly of 2\n",
    "poly2 = PolynomialFeatures(2)\n",
    "poly_sqft = poly2.fit_transform(X_train[['sqft_living']])\n",
    "\n",
    "# instantiate a PolynomialFeatures and fit/transfrom to X_poly\n",
    "poly = PolynomialFeatures(2)\n",
    "X_poly = poly.fit_transform(baseline_X_train)\n",
    "\n",
    "# fit X_poly to Linear Regression model \n",
    "reg_poly = LinearRegression().fit(X_poly, y_train)\n",
    "\n",
    "# create line parameters \n",
    "X_linspace = pd.DataFrame(np.linspace(50, 8000, 50), columns= ['sqft_living'])\n",
    "\n",
    "# create poly line X and Y values\n",
    "X_linspace_fin = poly.fit_transform(X_linspace)\n",
    "y_poly_pred = reg_poly.predict(X_linspace_fin)\n",
    "\n",
    "# set up fig\n",
    "fig, ax = plt.subplots(figsize=(8, 6))\n",
    "\n",
    "# plot polynomial regression line against the data\n",
    "plt.scatter(hd['sqft_living'], hd['price'], \n",
    "            s = 5, alpha = 0.1, \n",
    "            color='orange')\n",
    "\n",
    "plt.plot(X_linspace, y_poly_pred)\n",
    "plt.xlabel('sqft_living', weight = 'bold')\n",
    "plt.ylabel('price', weight = 'bold')\n",
    "ax.set_title('Polynomial Transformed sqft_living vs. price', weight = 'bold');\n",
    "\n",
    "# removes top and right side axis\n",
    "plt.gca().spines['top'].set_visible(False)\n",
    "plt.gca().spines['right'].set_visible(False)\n",
    "\n",
    "# set gridline visibility\n",
    "ax.set_axisbelow(True)\n",
    "ax.yaxis.grid(True, color='#EEEEEE')\n",
    "ax.xaxis.grid(False)\n",
    "\n",
    "plt.show();"
   ]
  },
  {
   "cell_type": "code",
   "execution_count": null,
   "metadata": {},
   "outputs": [],
   "source": [
    "# instantiate a poly baseline model\n",
    "poly_baseline_model = LinearRegression()\n",
    "\n",
    "# Fit our poly model\n",
    "poly_baseline_model.fit(X_poly, y_train)\n",
    "poly_baseline_model.score(X_poly, y_train)"
   ]
  },
  {
   "cell_type": "markdown",
   "metadata": {},
   "source": [
    "## Add School Data"
   ]
  },
  {
   "cell_type": "markdown",
   "metadata": {},
   "source": [
    "Data from https://data.wa.gov/education/Report-Card-Assessment-Data-2021-22-School-Year/v928-8kke and https://eds.ospi.k12.wa.us/directoryeds.aspx"
   ]
  },
  {
   "cell_type": "code",
   "execution_count": null,
   "metadata": {},
   "outputs": [],
   "source": [
    "#Import school data\n",
    "rc = pd.read_csv(\"/Users/eli/Desktop/Kings-County-Real-Estate-analysis-NAEG/Nadya/data/Report_Card_Assessment_Data_2021-22_School_Year.csv\")\n",
    "addresses=pd.read_csv(\"/Users/eli/Desktop/Kings-County-Real-Estate-analysis-NAEG/Nadya/data/Washington_School_Directory_20230214.csv\")\n",
    "\n",
    "#Clean up Addresses dataframe\n",
    "addresses[\"ZipCode\"] = addresses[\"ZipCode\"].apply(lambda x: x[:5])\n",
    "non_waaddresses = addresses[~addresses['ZipCode'].isin(zips)]\n",
    "addresses.drop(index = non_waaddresses.index, inplace = True, axis = 0)\n",
    "addresses=addresses[[\"SchoolName\", \"ZipCode\"]]\n",
    "\n",
    "#Clean up Report Card dataframe\n",
    "\n",
    "rc = rc[[\"OrganizationLevel\", \"County\", \"SchoolName\", \"GradeLevel\", \"TestSubject\", \"PercentMetStandard\"]]\n",
    "rc = rc[rc[\"County\"] == \"King\"].drop(columns=[\"County\"])\n",
    "rc = rc[rc[\"OrganizationLevel\"] == \"School\"].drop(columns=[\"OrganizationLevel\"])\n",
    "rc = rc[rc[\"GradeLevel\"] == \"All Grades\"].drop(columns=[\"GradeLevel\"])"
   ]
  },
  {
   "cell_type": "code",
   "execution_count": null,
   "metadata": {},
   "outputs": [],
   "source": [
    "#Standardize data under percent met standard column\n",
    "rc[\"PercentMetStandard\"]=rc[\"PercentMetStandard\"].replace(\"Suppressed: N<10\", \"0.0%\")\n",
    "rc[\"PercentMetStandard\"]=rc[\"PercentMetStandard\"].replace(\"No Students\", \"0.0%\")\n",
    "rc[\"PercentMetStandard\"]=rc[\"PercentMetStandard\"].apply(lambda x: x.strip(\"%\"))\n",
    "rc[\"PercentMetStandard\"]=rc[\"PercentMetStandard\"].apply(lambda x: x.strip(\">\"))\n",
    "rc[\"PercentMetStandard\"]=rc[\"PercentMetStandard\"].apply(lambda x: x.strip(\"<\"))\n",
    "rc[\"PercentMetStandard\"]=rc[\"PercentMetStandard\"].astype(float)\n",
    "\n",
    "#Average test scores and create a ratings column\n",
    "rc = rc.groupby([\"SchoolName\"]).aggregate({\"PercentMetStandard\":\"mean\"}).sort_values(by=[\"SchoolName\"]).reset_index()\n",
    "rc[\"rating\"] = rc[\"PercentMetStandard\"]/10"
   ]
  },
  {
   "cell_type": "code",
   "execution_count": null,
   "metadata": {},
   "outputs": [],
   "source": [
    "#Join dataframes and remove excess columns\n",
    "schools = rc.merge(addresses, left_on=\"SchoolName\", right_on=\"SchoolName\")\n",
    "schools = schools[[\"SchoolName\", \"rating\", \"ZipCode\"]]\n",
    "schools[\"ZipCode\"] = schools[\"ZipCode\"].astype(int)"
   ]
  },
  {
   "cell_type": "code",
   "execution_count": null,
   "metadata": {},
   "outputs": [],
   "source": [
    "schools_dict = dict(zip(schools.ZipCode, round(schools.rating, 1)))"
   ]
  },
  {
   "cell_type": "code",
   "execution_count": null,
   "metadata": {
    "scrolled": true
   },
   "outputs": [],
   "source": [
    "X_train['avg_school_quality'] = X_train['zip'].map(schools_dict)"
   ]
  },
  {
   "cell_type": "code",
   "execution_count": null,
   "metadata": {},
   "outputs": [],
   "source": [
    "X_train"
   ]
  },
  {
   "cell_type": "code",
   "execution_count": null,
   "metadata": {
    "scrolled": true
   },
   "outputs": [],
   "source": [
    "scale_mapper1 = {\"NONE\":0, \"FAIR\": 1, \"AVERAGE\":2, \"GOOD\":3, \"EXCELLENT\":4}\n",
    "X_train[\"view\"] = X_train[\"view\"].replace(scale_mapper1)\n",
    "\n",
    "scale_mapper2 = {\"Poor\":0, \"Fair\": 1, \"Average\":2, \"Good\":3, \"Very Good\":4}\n",
    "X_train[\"condition\"] = X_train[\"condition\"].replace(scale_mapper2)\n",
    "\n",
    "scale_mapper3 = {\"1 Cabin\":1, \"2 Substandard\": 2, \"3 Poor\":3, \"4 Low\":4, \"5 Fair\":5, \n",
    "               \"6 Low Average\":6, \"7 Average\": 7, \"8 Good\":8, \"9 Better\":9, \"10 Very Good\":10,\n",
    "               \"11 Excellent\": 11, \"12 Luxury\":12, \"13 Mansion\":13 }\n",
    "X_train[\"grade\"] = X_train[\"grade\"].replace(scale_mapper3)"
   ]
  },
  {
   "cell_type": "code",
   "execution_count": null,
   "metadata": {},
   "outputs": [],
   "source": [
    "X_train['renovated'] = np.where(X_train['yr_renovated'] > 0, 1, 0)\n",
    "X_train.drop('yr_renovated', axis = 1, inplace = True)\n",
    "X_train['renovated'].value_counts()"
   ]
  },
  {
   "cell_type": "code",
   "execution_count": null,
   "metadata": {},
   "outputs": [],
   "source": [
    "X_train = pd.get_dummies(X_train, columns = ['waterfront', 'greenbelt', 'nuisance', 'renovated', \"heat_source\", \"sewer_system\"], drop_first = True)"
   ]
  },
  {
   "cell_type": "code",
   "execution_count": null,
   "metadata": {},
   "outputs": [],
   "source": [
    "X_train = X_train.drop(columns=[\"address\"])"
   ]
  },
  {
   "cell_type": "code",
   "execution_count": null,
   "metadata": {
    "scrolled": false
   },
   "outputs": [],
   "source": [
    "X_train.loc[X_train['avg_school_quality'].isna()] = X_train['avg_school_quality'].mean()\n",
    "X_train.info()"
   ]
  },
  {
   "cell_type": "markdown",
   "metadata": {},
   "source": [
    "# All Variable Model"
   ]
  },
  {
   "cell_type": "code",
   "execution_count": null,
   "metadata": {},
   "outputs": [],
   "source": [
    "all_variable_X = X_train\n",
    "all_variable_X = all_variable_X.drop(columns=[\"date\", \"year_sold\"])\n",
    "all_variable_X.info()"
   ]
  },
  {
   "cell_type": "code",
   "execution_count": null,
   "metadata": {},
   "outputs": [],
   "source": [
    "all_variable_model = sm.OLS(y_train, sm.add_constant(all_variable_X)).fit()\n",
    "all_variable_model.summary()"
   ]
  },
  {
   "cell_type": "markdown",
   "metadata": {},
   "source": [
    "#add requirements for our stakeholder\n",
    "hd = hd.loc[(hd[\"bedrooms\"] > 1) & (hd[\"bedrooms\"]<=5)]\n",
    "hd = hd.loc[hd[\"price\"]<=1300000]\n",
    "hd = hd.drop(columns=[\"date\"])"
   ]
  },
  {
   "cell_type": "markdown",
   "metadata": {},
   "source": [
    "# Recursive Feature Elimination Model"
   ]
  },
  {
   "cell_type": "code",
   "execution_count": null,
   "metadata": {},
   "outputs": [],
   "source": [
    "lr_rfe = LinearRegression()\n",
    "select = RFE(lr_rfe, n_features_to_select = 5)"
   ]
  },
  {
   "cell_type": "code",
   "execution_count": null,
   "metadata": {},
   "outputs": [],
   "source": [
    "select.fit(X = all_variable_X, y = y_train)"
   ]
  },
  {
   "cell_type": "code",
   "execution_count": null,
   "metadata": {},
   "outputs": [],
   "source": [
    "select.ranking_"
   ]
  },
  {
   "cell_type": "code",
   "execution_count": null,
   "metadata": {
    "scrolled": true
   },
   "outputs": [],
   "source": [
    "all_variable_X.columns"
   ]
  },
  {
   "cell_type": "code",
   "execution_count": null,
   "metadata": {},
   "outputs": [],
   "source": [
    "pd.DataFrame(data=select.ranking_, index=all_variable_X.columns)"
   ]
  },
  {
   "cell_type": "code",
   "execution_count": null,
   "metadata": {},
   "outputs": [],
   "source": [
    "rfe_X = all_variable_X[['bathrooms', 'floors', 'view', 'grade', 'waterfront_YES']]\n",
    "rfe_model = sm.OLS(y_train, sm.add_constant(rfe_X)).fit()\n",
    "rfe_model.summary()"
   ]
  },
  {
   "cell_type": "markdown",
   "metadata": {},
   "source": [
    "## Log Transformation"
   ]
  },
  {
   "cell_type": "code",
   "execution_count": null,
   "metadata": {},
   "outputs": [],
   "source": [
    "all_variable_X['view'].value_counts()"
   ]
  },
  {
   "cell_type": "code",
   "execution_count": null,
   "metadata": {},
   "outputs": [],
   "source": [
    "# set up figure for predictor variables in all_variable_X\n",
    "fig, axes = plt.subplots(nrows=(all_variable_X.shape[1] // 4), ncols=4, figsize=(12,25))\n",
    "\n",
    "# for each col in X_third, plot distribution\n",
    "for col, ax in zip(all_variable_X, axes.flatten()):\n",
    "    ax.hist(all_variable_X[col], bins='auto')\n",
    "    ax.set_title(col)\n",
    "    \n",
    "fig.tight_layout()"
   ]
  },
  {
   "cell_type": "code",
   "execution_count": null,
   "metadata": {},
   "outputs": [],
   "source": [
    "#selecting variables for log\n",
    "log_variables = ['sqft_living','sqft_above', 'bathrooms']\n",
    "\n",
    "# assign to X_cont\n",
    "X_logs = all_variable_X[log_variables]"
   ]
  },
  {
   "cell_type": "code",
   "execution_count": null,
   "metadata": {},
   "outputs": [],
   "source": [
    "X_logs"
   ]
  },
  {
   "cell_type": "code",
   "execution_count": null,
   "metadata": {},
   "outputs": [],
   "source": [
    "X_logs.describe()"
   ]
  },
  {
   "cell_type": "code",
   "execution_count": null,
   "metadata": {},
   "outputs": [],
   "source": [
    "#log transformation\n",
    "log_columns = [f'{column}_log' for column in X_logs.columns]\n",
    "cont_log = np.log(X_logs)\n",
    "cont_log.columns = log_columns\n",
    "cont_log.hist(figsize=(15, 15), bins=50)\n",
    "fig.tight_layout();"
   ]
  },
  {
   "cell_type": "code",
   "execution_count": null,
   "metadata": {},
   "outputs": [],
   "source": [
    "cont_log"
   ]
  },
  {
   "cell_type": "code",
   "execution_count": null,
   "metadata": {},
   "outputs": [],
   "source": [
    "log_transformed = cont_log.join(all_variable_X).drop(columns = [\"sqft_living\", \"sqft_above\", \"sqft_lot\", 'bathrooms',\n",
    "                                                                \"yr_built\", \"sqft_basement\", \"sqft_garage\", \"sqft_patio\"])\n",
    "log_transformed"
   ]
  },
  {
   "cell_type": "code",
   "execution_count": null,
   "metadata": {},
   "outputs": [],
   "source": [
    "log_y = np.log(y_train)"
   ]
  },
  {
   "cell_type": "code",
   "execution_count": null,
   "metadata": {},
   "outputs": [],
   "source": [
    "log_model = sm.OLS(log_y, sm.add_constant(log_transformed)).fit()\n",
    "log_model.summary()"
   ]
  },
  {
   "cell_type": "markdown",
   "metadata": {},
   "source": [
    "## One Hot Encode Zip Codes"
   ]
  },
  {
   "cell_type": "code",
   "execution_count": null,
   "metadata": {},
   "outputs": [],
   "source": [
    "log_transformed_zips = pd.get_dummies(log_transformed, columns = ['zip'], drop_first = True)\n",
    "log_transformed_zips.columns"
   ]
  },
  {
   "cell_type": "code",
   "execution_count": null,
   "metadata": {},
   "outputs": [],
   "source": [
    "log_zips_model = sm.OLS(log_y, sm.add_constant(log_transformed_zips)).fit()\n",
    "log_zips_model.summary()"
   ]
  },
  {
   "cell_type": "code",
   "execution_count": null,
   "metadata": {},
   "outputs": [],
   "source": [
    "zips_ohe = pd.get_dummies(log_transformed['zip'], drop_first = True)\n",
    "zips_school = zips_ohe.mul(log_transformed_zips['avg_school_quality'], axis = 0)"
   ]
  },
  {
   "cell_type": "code",
   "execution_count": null,
   "metadata": {},
   "outputs": [],
   "source": [
    "zips_school_interaction = pd.merge(zips_school, \n",
    "                                   log_transformed_zips[['sqft_living_log', 'sqft_above_log',\n",
    "                                                         'years_old', 'bathrooms_log',\n",
    "                                                         'bedrooms', 'floors', 'view',\n",
    "                                                         'condition', 'grade','waterfront_YES',\n",
    "                                                         'greenbelt_YES', 'nuisance_YES', 'renovated_1']], \n",
    "                                   how = 'inner', left_on = zips_school.index, right_on = log_transformed_zips.index)\n",
    "#zips_school_interaction\n",
    "zips_school_interaction=zips_school_interaction.rename(columns={'key_0': 'index'})\n",
    "\n",
    "# zips_school_interaction.rename(index={'key_0': 'index'})\n",
    "zips_school_interaction.set_index('index', inplace = True)"
   ]
  },
  {
   "cell_type": "code",
   "execution_count": null,
   "metadata": {},
   "outputs": [],
   "source": [
    "zips_school_interaction\n"
   ]
  },
  {
   "cell_type": "code",
   "execution_count": null,
   "metadata": {},
   "outputs": [],
   "source": [
    "interaction_model = sm.OLS(log_y, sm.add_constant(zips_school_interaction)).fit()\n",
    "interaction_model.summary()"
   ]
  },
  {
   "cell_type": "code",
   "execution_count": null,
   "metadata": {
    "scrolled": true
   },
   "outputs": [],
   "source": [
    "sm.graphics.qqplot(interaction_model.resid, dist=stats.norm, line='45', fit=True)\n",
    "plt.show()"
   ]
  },
  {
   "cell_type": "markdown",
   "metadata": {},
   "source": [
    "# Standard Scaling"
   ]
  },
  {
   "cell_type": "code",
   "execution_count": null,
   "metadata": {},
   "outputs": [],
   "source": [
    "log_transformed_zips"
   ]
  },
  {
   "cell_type": "code",
   "execution_count": null,
   "metadata": {},
   "outputs": [],
   "source": [
    "ss = StandardScaler()\n",
    "log_transformed_zips[['scaled_avg_school_quality', 'scaled_years_old',\n",
    "                      'scaled_bedrooms', 'scaled_floors', 'scaled_view',\n",
    "                      'scaled_condition', 'scaled_grade']] = ss.fit_transform(log_transformed_zips[['avg_school_quality', 'years_old',\n",
    "                                       'bedrooms', \n",
    "                                       'floors', 'view',\n",
    "                                       'condition', 'grade']])\n",
    "\n",
    "scaled_log_transformed_zips = log_transformed_zips.copy()\n",
    "scaled_log_transformed_zips.drop(columns = ['avg_school_quality', 'years_old',\n",
    "                                       'bedrooms', \n",
    "                                       'floors', 'view',\n",
    "                                       'condition', 'grade'], axis = 1, inplace = True)"
   ]
  },
  {
   "cell_type": "code",
   "execution_count": null,
   "metadata": {
    "scrolled": false
   },
   "outputs": [],
   "source": [
    "scaled_model = sm.OLS(log_y, sm.add_constant(scaled_log_transformed_zips)).fit()\n",
    "scaled_model.summary()"
   ]
  },
  {
   "cell_type": "code",
   "execution_count": null,
   "metadata": {},
   "outputs": [],
   "source": [
    "sm.graphics.qqplot(scaled_model.resid, dist=stats.norm, line='45', fit=True)\n",
    "plt.show()"
   ]
  },
  {
   "cell_type": "markdown",
   "metadata": {},
   "source": [
    "## Business Question\n",
    "Considering family homes (2-5 bedrooms) under $1.3 million, how can we maximize school quality and minimize house price?"
   ]
  },
  {
   "cell_type": "code",
   "execution_count": null,
   "metadata": {},
   "outputs": [],
   "source": [
    "log_transformed_zips.columns"
   ]
  },
  {
   "cell_type": "code",
   "execution_count": null,
   "metadata": {},
   "outputs": [],
   "source": []
  }
 ],
 "metadata": {
  "kernelspec": {
   "display_name": "Python (learn-env)",
   "language": "python",
   "name": "learn-env"
  },
  "language_info": {
   "codemirror_mode": {
    "name": "ipython",
    "version": 3
   },
   "file_extension": ".py",
   "mimetype": "text/x-python",
   "name": "python",
   "nbconvert_exporter": "python",
   "pygments_lexer": "ipython3",
   "version": "3.8.5"
  }
 },
 "nbformat": 4,
 "nbformat_minor": 4
}
